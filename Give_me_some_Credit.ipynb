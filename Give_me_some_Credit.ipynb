{
  "nbformat": 4,
  "nbformat_minor": 0,
  "metadata": {
    "colab": {
      "name": "Give me some Credit.ipynb",
      "provenance": [],
      "collapsed_sections": [],
      "authorship_tag": "ABX9TyM6vXseUQZP92EWkzANvslU",
      "include_colab_link": true
    },
    "kernelspec": {
      "name": "python3",
      "display_name": "Python 3"
    },
    "language_info": {
      "name": "python"
    },
    "accelerator": "GPU"
  },
  "cells": [
    {
      "cell_type": "markdown",
      "metadata": {
        "id": "view-in-github",
        "colab_type": "text"
      },
      "source": [
        "<a href=\"https://colab.research.google.com/github/wjung1008/Give-Me-Some-Credit/blob/main/Give_me_some_Credit.ipynb\" target=\"_parent\"><img src=\"https://colab.research.google.com/assets/colab-badge.svg\" alt=\"Open In Colab\"/></a>"
      ]
    },
    {
      "cell_type": "markdown",
      "metadata": {
        "id": "gNjqhGSK6JEe"
      },
      "source": [
        "# **Give me some Credit**\n",
        "### The goal of this competition is to build a model that borrowers can use to help make the best financial decisions."
      ]
    },
    {
      "cell_type": "markdown",
      "metadata": {
        "id": "SjKVw8FV6oDR"
      },
      "source": [
        "## **Import Libraries**"
      ]
    },
    {
      "cell_type": "code",
      "metadata": {
        "id": "TbRwh9yw6N1g"
      },
      "source": [
        "import pandas as pd\n",
        "import numpy as np\n",
        "from collections import Counter\n",
        "from sklearn.ensemble import RandomForestRegressor, RandomForestClassifier, AdaBoostClassifier, GradientBoostingClassifier\n",
        "from sklearn.model_selection import train_test_split\n",
        "from sklearn.metrics import roc_auc_score"
      ],
      "execution_count": 1,
      "outputs": []
    },
    {
      "cell_type": "markdown",
      "metadata": {
        "id": "TtXE4VEA6zTp"
      },
      "source": [
        "## **Load Dataset**\n",
        "\n",
        "*   Ultimately, we want to predict if the borrower will experience 90 days past due delinquency or worse (SeriousDlqin2yrs)\n",
        "\n"
      ]
    },
    {
      "cell_type": "code",
      "metadata": {
        "colab": {
          "base_uri": "https://localhost:8080/",
          "height": 244
        },
        "id": "P0FXWiXD61ny",
        "outputId": "8f745b7e-282d-473d-9fb0-99dea9392c46"
      },
      "source": [
        "data = pd.read_csv('cs-training.csv')\n",
        "data.head()"
      ],
      "execution_count": 2,
      "outputs": [
        {
          "output_type": "execute_result",
          "data": {
            "text/html": [
              "<div>\n",
              "<style scoped>\n",
              "    .dataframe tbody tr th:only-of-type {\n",
              "        vertical-align: middle;\n",
              "    }\n",
              "\n",
              "    .dataframe tbody tr th {\n",
              "        vertical-align: top;\n",
              "    }\n",
              "\n",
              "    .dataframe thead th {\n",
              "        text-align: right;\n",
              "    }\n",
              "</style>\n",
              "<table border=\"1\" class=\"dataframe\">\n",
              "  <thead>\n",
              "    <tr style=\"text-align: right;\">\n",
              "      <th></th>\n",
              "      <th>Unnamed: 0</th>\n",
              "      <th>SeriousDlqin2yrs</th>\n",
              "      <th>RevolvingUtilizationOfUnsecuredLines</th>\n",
              "      <th>age</th>\n",
              "      <th>NumberOfTime30-59DaysPastDueNotWorse</th>\n",
              "      <th>DebtRatio</th>\n",
              "      <th>MonthlyIncome</th>\n",
              "      <th>NumberOfOpenCreditLinesAndLoans</th>\n",
              "      <th>NumberOfTimes90DaysLate</th>\n",
              "      <th>NumberRealEstateLoansOrLines</th>\n",
              "      <th>NumberOfTime60-89DaysPastDueNotWorse</th>\n",
              "      <th>NumberOfDependents</th>\n",
              "    </tr>\n",
              "  </thead>\n",
              "  <tbody>\n",
              "    <tr>\n",
              "      <th>0</th>\n",
              "      <td>1</td>\n",
              "      <td>1</td>\n",
              "      <td>0.766127</td>\n",
              "      <td>45</td>\n",
              "      <td>2</td>\n",
              "      <td>0.802982</td>\n",
              "      <td>9120.0</td>\n",
              "      <td>13</td>\n",
              "      <td>0</td>\n",
              "      <td>6</td>\n",
              "      <td>0</td>\n",
              "      <td>2.0</td>\n",
              "    </tr>\n",
              "    <tr>\n",
              "      <th>1</th>\n",
              "      <td>2</td>\n",
              "      <td>0</td>\n",
              "      <td>0.957151</td>\n",
              "      <td>40</td>\n",
              "      <td>0</td>\n",
              "      <td>0.121876</td>\n",
              "      <td>2600.0</td>\n",
              "      <td>4</td>\n",
              "      <td>0</td>\n",
              "      <td>0</td>\n",
              "      <td>0</td>\n",
              "      <td>1.0</td>\n",
              "    </tr>\n",
              "    <tr>\n",
              "      <th>2</th>\n",
              "      <td>3</td>\n",
              "      <td>0</td>\n",
              "      <td>0.658180</td>\n",
              "      <td>38</td>\n",
              "      <td>1</td>\n",
              "      <td>0.085113</td>\n",
              "      <td>3042.0</td>\n",
              "      <td>2</td>\n",
              "      <td>1</td>\n",
              "      <td>0</td>\n",
              "      <td>0</td>\n",
              "      <td>0.0</td>\n",
              "    </tr>\n",
              "    <tr>\n",
              "      <th>3</th>\n",
              "      <td>4</td>\n",
              "      <td>0</td>\n",
              "      <td>0.233810</td>\n",
              "      <td>30</td>\n",
              "      <td>0</td>\n",
              "      <td>0.036050</td>\n",
              "      <td>3300.0</td>\n",
              "      <td>5</td>\n",
              "      <td>0</td>\n",
              "      <td>0</td>\n",
              "      <td>0</td>\n",
              "      <td>0.0</td>\n",
              "    </tr>\n",
              "    <tr>\n",
              "      <th>4</th>\n",
              "      <td>5</td>\n",
              "      <td>0</td>\n",
              "      <td>0.907239</td>\n",
              "      <td>49</td>\n",
              "      <td>1</td>\n",
              "      <td>0.024926</td>\n",
              "      <td>63588.0</td>\n",
              "      <td>7</td>\n",
              "      <td>0</td>\n",
              "      <td>1</td>\n",
              "      <td>0</td>\n",
              "      <td>0.0</td>\n",
              "    </tr>\n",
              "  </tbody>\n",
              "</table>\n",
              "</div>"
            ],
            "text/plain": [
              "   Unnamed: 0  ...  NumberOfDependents\n",
              "0           1  ...                 2.0\n",
              "1           2  ...                 1.0\n",
              "2           3  ...                 0.0\n",
              "3           4  ...                 0.0\n",
              "4           5  ...                 0.0\n",
              "\n",
              "[5 rows x 12 columns]"
            ]
          },
          "metadata": {},
          "execution_count": 2
        }
      ]
    },
    {
      "cell_type": "markdown",
      "metadata": {
        "id": "pCKm008FH5Ox"
      },
      "source": [
        "## **Analyze and validate data (i.e. missing data, outlier)**"
      ]
    },
    {
      "cell_type": "code",
      "metadata": {
        "colab": {
          "base_uri": "https://localhost:8080/"
        },
        "id": "tXsRtqiwIWNH",
        "outputId": "18199de0-878e-4499-d95e-9df453c47adb"
      },
      "source": [
        "data.info()"
      ],
      "execution_count": 3,
      "outputs": [
        {
          "output_type": "stream",
          "name": "stdout",
          "text": [
            "<class 'pandas.core.frame.DataFrame'>\n",
            "RangeIndex: 150000 entries, 0 to 149999\n",
            "Data columns (total 12 columns):\n",
            " #   Column                                Non-Null Count   Dtype  \n",
            "---  ------                                --------------   -----  \n",
            " 0   Unnamed: 0                            150000 non-null  int64  \n",
            " 1   SeriousDlqin2yrs                      150000 non-null  int64  \n",
            " 2   RevolvingUtilizationOfUnsecuredLines  150000 non-null  float64\n",
            " 3   age                                   150000 non-null  int64  \n",
            " 4   NumberOfTime30-59DaysPastDueNotWorse  150000 non-null  int64  \n",
            " 5   DebtRatio                             150000 non-null  float64\n",
            " 6   MonthlyIncome                         120269 non-null  float64\n",
            " 7   NumberOfOpenCreditLinesAndLoans       150000 non-null  int64  \n",
            " 8   NumberOfTimes90DaysLate               150000 non-null  int64  \n",
            " 9   NumberRealEstateLoansOrLines          150000 non-null  int64  \n",
            " 10  NumberOfTime60-89DaysPastDueNotWorse  150000 non-null  int64  \n",
            " 11  NumberOfDependents                    146076 non-null  float64\n",
            "dtypes: float64(4), int64(8)\n",
            "memory usage: 13.7 MB\n"
          ]
        }
      ]
    },
    {
      "cell_type": "code",
      "metadata": {
        "id": "2KhscDZ_dz7d"
      },
      "source": [
        "# Omit first column\n",
        "data = data.iloc[: , 1:]"
      ],
      "execution_count": 4,
      "outputs": []
    },
    {
      "cell_type": "code",
      "metadata": {
        "colab": {
          "base_uri": "https://localhost:8080/"
        },
        "id": "iQj0AR4dDF_G",
        "outputId": "73098751-0eca-443e-f984-97e01ba8bf89"
      },
      "source": [
        "# Number of NaN for each column\n",
        "data.isna().sum()"
      ],
      "execution_count": 5,
      "outputs": [
        {
          "output_type": "execute_result",
          "data": {
            "text/plain": [
              "SeriousDlqin2yrs                            0\n",
              "RevolvingUtilizationOfUnsecuredLines        0\n",
              "age                                         0\n",
              "NumberOfTime30-59DaysPastDueNotWorse        0\n",
              "DebtRatio                                   0\n",
              "MonthlyIncome                           29731\n",
              "NumberOfOpenCreditLinesAndLoans             0\n",
              "NumberOfTimes90DaysLate                     0\n",
              "NumberRealEstateLoansOrLines                0\n",
              "NumberOfTime60-89DaysPastDueNotWorse        0\n",
              "NumberOfDependents                       3924\n",
              "dtype: int64"
            ]
          },
          "metadata": {},
          "execution_count": 5
        }
      ]
    },
    {
      "cell_type": "markdown",
      "metadata": {
        "id": "AHG_3SB5hxjP"
      },
      "source": [
        "###**Perform Outlier detection for every column** \n",
        "\n",
        "*   Outliers were detected based on different techniques including Interquartile range (IQR) and thresholding.\n",
        "*   Therefore, rather than simply dropping the outliers, they were either replaced with values based on IQR or min and max threshold was used to stabilize the data.\n"
      ]
    },
    {
      "cell_type": "code",
      "metadata": {
        "colab": {
          "base_uri": "https://localhost:8080/",
          "height": 668
        },
        "id": "nuxDO4aHd5HR",
        "outputId": "d6413daf-820d-423d-bc02-38a498193a5d"
      },
      "source": [
        "def IQR(data,column):\n",
        "  q1 = data[column].quantile(0.25)\n",
        "  q3 = data[column].quantile(0.75)\n",
        "  iqr = q3 - q1\n",
        "  return q1, q3, iqr\n",
        "\n",
        "\n",
        "for column in data:\n",
        "  q1, q3, iqr = IQR(data, column)\n",
        "  outlier = (data[column] < q1 - iqr * 1.5 )| (data[column] > q3 + iqr * 1.5)\n",
        "  print('Found', len(data[outlier]), 'outlier in', column)\n",
        "\n",
        "  # data.drop(data[outlier].index, inplace = True)\n",
        "  # data.plot(kind = \"scatter\", x = column, y = \"SeriousDlqin2yrs\")\n",
        "\n",
        "# Correlation between the variables\n",
        "data.corr()\n"
      ],
      "execution_count": 6,
      "outputs": [
        {
          "output_type": "stream",
          "name": "stdout",
          "text": [
            "Found 10026 outlier in SeriousDlqin2yrs\n",
            "Found 763 outlier in RevolvingUtilizationOfUnsecuredLines\n",
            "Found 46 outlier in age\n",
            "Found 23982 outlier in NumberOfTime30-59DaysPastDueNotWorse\n",
            "Found 31311 outlier in DebtRatio\n",
            "Found 4879 outlier in MonthlyIncome\n",
            "Found 3980 outlier in NumberOfOpenCreditLinesAndLoans\n",
            "Found 8338 outlier in NumberOfTimes90DaysLate\n",
            "Found 793 outlier in NumberRealEstateLoansOrLines\n",
            "Found 7604 outlier in NumberOfTime60-89DaysPastDueNotWorse\n",
            "Found 13336 outlier in NumberOfDependents\n"
          ]
        },
        {
          "output_type": "execute_result",
          "data": {
            "text/html": [
              "<div>\n",
              "<style scoped>\n",
              "    .dataframe tbody tr th:only-of-type {\n",
              "        vertical-align: middle;\n",
              "    }\n",
              "\n",
              "    .dataframe tbody tr th {\n",
              "        vertical-align: top;\n",
              "    }\n",
              "\n",
              "    .dataframe thead th {\n",
              "        text-align: right;\n",
              "    }\n",
              "</style>\n",
              "<table border=\"1\" class=\"dataframe\">\n",
              "  <thead>\n",
              "    <tr style=\"text-align: right;\">\n",
              "      <th></th>\n",
              "      <th>SeriousDlqin2yrs</th>\n",
              "      <th>RevolvingUtilizationOfUnsecuredLines</th>\n",
              "      <th>age</th>\n",
              "      <th>NumberOfTime30-59DaysPastDueNotWorse</th>\n",
              "      <th>DebtRatio</th>\n",
              "      <th>MonthlyIncome</th>\n",
              "      <th>NumberOfOpenCreditLinesAndLoans</th>\n",
              "      <th>NumberOfTimes90DaysLate</th>\n",
              "      <th>NumberRealEstateLoansOrLines</th>\n",
              "      <th>NumberOfTime60-89DaysPastDueNotWorse</th>\n",
              "      <th>NumberOfDependents</th>\n",
              "    </tr>\n",
              "  </thead>\n",
              "  <tbody>\n",
              "    <tr>\n",
              "      <th>SeriousDlqin2yrs</th>\n",
              "      <td>1.000000</td>\n",
              "      <td>-0.001802</td>\n",
              "      <td>-0.115386</td>\n",
              "      <td>0.125587</td>\n",
              "      <td>-0.007602</td>\n",
              "      <td>-0.019746</td>\n",
              "      <td>-0.029669</td>\n",
              "      <td>0.117175</td>\n",
              "      <td>-0.007038</td>\n",
              "      <td>0.102261</td>\n",
              "      <td>0.046048</td>\n",
              "    </tr>\n",
              "    <tr>\n",
              "      <th>RevolvingUtilizationOfUnsecuredLines</th>\n",
              "      <td>-0.001802</td>\n",
              "      <td>1.000000</td>\n",
              "      <td>-0.005898</td>\n",
              "      <td>-0.001314</td>\n",
              "      <td>0.003961</td>\n",
              "      <td>0.007124</td>\n",
              "      <td>-0.011281</td>\n",
              "      <td>-0.001061</td>\n",
              "      <td>0.006235</td>\n",
              "      <td>-0.001048</td>\n",
              "      <td>0.001557</td>\n",
              "    </tr>\n",
              "    <tr>\n",
              "      <th>age</th>\n",
              "      <td>-0.115386</td>\n",
              "      <td>-0.005898</td>\n",
              "      <td>1.000000</td>\n",
              "      <td>-0.062995</td>\n",
              "      <td>0.024188</td>\n",
              "      <td>0.037717</td>\n",
              "      <td>0.147705</td>\n",
              "      <td>-0.061005</td>\n",
              "      <td>0.033150</td>\n",
              "      <td>-0.057159</td>\n",
              "      <td>-0.213303</td>\n",
              "    </tr>\n",
              "    <tr>\n",
              "      <th>NumberOfTime30-59DaysPastDueNotWorse</th>\n",
              "      <td>0.125587</td>\n",
              "      <td>-0.001314</td>\n",
              "      <td>-0.062995</td>\n",
              "      <td>1.000000</td>\n",
              "      <td>-0.006542</td>\n",
              "      <td>-0.010217</td>\n",
              "      <td>-0.055312</td>\n",
              "      <td>0.983603</td>\n",
              "      <td>-0.030565</td>\n",
              "      <td>0.987005</td>\n",
              "      <td>-0.002680</td>\n",
              "    </tr>\n",
              "    <tr>\n",
              "      <th>DebtRatio</th>\n",
              "      <td>-0.007602</td>\n",
              "      <td>0.003961</td>\n",
              "      <td>0.024188</td>\n",
              "      <td>-0.006542</td>\n",
              "      <td>1.000000</td>\n",
              "      <td>-0.028712</td>\n",
              "      <td>0.049565</td>\n",
              "      <td>-0.008320</td>\n",
              "      <td>0.120046</td>\n",
              "      <td>-0.007533</td>\n",
              "      <td>-0.040673</td>\n",
              "    </tr>\n",
              "    <tr>\n",
              "      <th>MonthlyIncome</th>\n",
              "      <td>-0.019746</td>\n",
              "      <td>0.007124</td>\n",
              "      <td>0.037717</td>\n",
              "      <td>-0.010217</td>\n",
              "      <td>-0.028712</td>\n",
              "      <td>1.000000</td>\n",
              "      <td>0.091455</td>\n",
              "      <td>-0.012743</td>\n",
              "      <td>0.124959</td>\n",
              "      <td>-0.011116</td>\n",
              "      <td>0.062647</td>\n",
              "    </tr>\n",
              "    <tr>\n",
              "      <th>NumberOfOpenCreditLinesAndLoans</th>\n",
              "      <td>-0.029669</td>\n",
              "      <td>-0.011281</td>\n",
              "      <td>0.147705</td>\n",
              "      <td>-0.055312</td>\n",
              "      <td>0.049565</td>\n",
              "      <td>0.091455</td>\n",
              "      <td>1.000000</td>\n",
              "      <td>-0.079984</td>\n",
              "      <td>0.433959</td>\n",
              "      <td>-0.071077</td>\n",
              "      <td>0.065322</td>\n",
              "    </tr>\n",
              "    <tr>\n",
              "      <th>NumberOfTimes90DaysLate</th>\n",
              "      <td>0.117175</td>\n",
              "      <td>-0.001061</td>\n",
              "      <td>-0.061005</td>\n",
              "      <td>0.983603</td>\n",
              "      <td>-0.008320</td>\n",
              "      <td>-0.012743</td>\n",
              "      <td>-0.079984</td>\n",
              "      <td>1.000000</td>\n",
              "      <td>-0.045205</td>\n",
              "      <td>0.992796</td>\n",
              "      <td>-0.010176</td>\n",
              "    </tr>\n",
              "    <tr>\n",
              "      <th>NumberRealEstateLoansOrLines</th>\n",
              "      <td>-0.007038</td>\n",
              "      <td>0.006235</td>\n",
              "      <td>0.033150</td>\n",
              "      <td>-0.030565</td>\n",
              "      <td>0.120046</td>\n",
              "      <td>0.124959</td>\n",
              "      <td>0.433959</td>\n",
              "      <td>-0.045205</td>\n",
              "      <td>1.000000</td>\n",
              "      <td>-0.039722</td>\n",
              "      <td>0.124684</td>\n",
              "    </tr>\n",
              "    <tr>\n",
              "      <th>NumberOfTime60-89DaysPastDueNotWorse</th>\n",
              "      <td>0.102261</td>\n",
              "      <td>-0.001048</td>\n",
              "      <td>-0.057159</td>\n",
              "      <td>0.987005</td>\n",
              "      <td>-0.007533</td>\n",
              "      <td>-0.011116</td>\n",
              "      <td>-0.071077</td>\n",
              "      <td>0.992796</td>\n",
              "      <td>-0.039722</td>\n",
              "      <td>1.000000</td>\n",
              "      <td>-0.010922</td>\n",
              "    </tr>\n",
              "    <tr>\n",
              "      <th>NumberOfDependents</th>\n",
              "      <td>0.046048</td>\n",
              "      <td>0.001557</td>\n",
              "      <td>-0.213303</td>\n",
              "      <td>-0.002680</td>\n",
              "      <td>-0.040673</td>\n",
              "      <td>0.062647</td>\n",
              "      <td>0.065322</td>\n",
              "      <td>-0.010176</td>\n",
              "      <td>0.124684</td>\n",
              "      <td>-0.010922</td>\n",
              "      <td>1.000000</td>\n",
              "    </tr>\n",
              "  </tbody>\n",
              "</table>\n",
              "</div>"
            ],
            "text/plain": [
              "                                      SeriousDlqin2yrs  ...  NumberOfDependents\n",
              "SeriousDlqin2yrs                              1.000000  ...            0.046048\n",
              "RevolvingUtilizationOfUnsecuredLines         -0.001802  ...            0.001557\n",
              "age                                          -0.115386  ...           -0.213303\n",
              "NumberOfTime30-59DaysPastDueNotWorse          0.125587  ...           -0.002680\n",
              "DebtRatio                                    -0.007602  ...           -0.040673\n",
              "MonthlyIncome                                -0.019746  ...            0.062647\n",
              "NumberOfOpenCreditLinesAndLoans              -0.029669  ...            0.065322\n",
              "NumberOfTimes90DaysLate                       0.117175  ...           -0.010176\n",
              "NumberRealEstateLoansOrLines                 -0.007038  ...            0.124684\n",
              "NumberOfTime60-89DaysPastDueNotWorse          0.102261  ...           -0.010922\n",
              "NumberOfDependents                            0.046048  ...            1.000000\n",
              "\n",
              "[11 rows x 11 columns]"
            ]
          },
          "metadata": {},
          "execution_count": 6
        }
      ]
    },
    {
      "cell_type": "code",
      "metadata": {
        "colab": {
          "base_uri": "https://localhost:8080/"
        },
        "id": "MjIfJfToGtxm",
        "outputId": "3eef6995-2e4c-43a1-ee1f-ec71b42c42a3"
      },
      "source": [
        "# Rather than removing the outliers, threshold of q3 + 1.5iqr was used as maximum value.\n",
        "q1, q3, iqr = IQR(data, 'RevolvingUtilizationOfUnsecuredLines')\n",
        "\n",
        "data['RevolvingUtilizationOfUnsecuredLines'] = np.where(data['RevolvingUtilizationOfUnsecuredLines'] > (q3 + iqr * 1.5), (q3 + iqr * 1.5), data['RevolvingUtilizationOfUnsecuredLines'])\n",
        "\n",
        "\n",
        "data.RevolvingUtilizationOfUnsecuredLines.describe()"
      ],
      "execution_count": 7,
      "outputs": [
        {
          "output_type": "execute_result",
          "data": {
            "text/plain": [
              "count    150000.000000\n",
              "mean          0.322261\n",
              "std           0.356572\n",
              "min           0.000000\n",
              "25%           0.029867\n",
              "50%           0.154181\n",
              "75%           0.559046\n",
              "max           1.352814\n",
              "Name: RevolvingUtilizationOfUnsecuredLines, dtype: float64"
            ]
          },
          "metadata": {},
          "execution_count": 7
        }
      ]
    },
    {
      "cell_type": "code",
      "metadata": {
        "colab": {
          "base_uri": "https://localhost:8080/"
        },
        "id": "ncKge4gEOESK",
        "outputId": "8c380a14-4fbe-4d1a-85e5-155727fc3db3"
      },
      "source": [
        "# Upon seeing Age column, min was 0, which doesn't make sense. Hence minimum age was set.\n",
        "for i in range(19,35):\n",
        "    print (i, len(data[data.age < i]))\n"
      ],
      "execution_count": 8,
      "outputs": [
        {
          "output_type": "stream",
          "name": "stdout",
          "text": [
            "19 1\n",
            "20 1\n",
            "21 1\n",
            "22 184\n",
            "23 618\n",
            "24 1259\n",
            "25 2075\n",
            "26 3028\n",
            "27 4221\n",
            "28 5559\n",
            "29 7119\n",
            "30 8821\n",
            "31 10758\n",
            "32 12796\n",
            "33 14846\n",
            "34 17085\n"
          ]
        }
      ]
    },
    {
      "cell_type": "code",
      "metadata": {
        "colab": {
          "base_uri": "https://localhost:8080/"
        },
        "id": "QKUdFn6aOqtV",
        "outputId": "cb5815c6-f6d9-4306-dcb6-e686ba991cf2"
      },
      "source": [
        "data['age'] = np.where(data['age'] < 22, 22, data['age'])\n",
        "data.age.describe()"
      ],
      "execution_count": 9,
      "outputs": [
        {
          "output_type": "execute_result",
          "data": {
            "text/plain": [
              "count    150000.000000\n",
              "mean         52.296573\n",
              "std          14.768912\n",
              "min          22.000000\n",
              "25%          41.000000\n",
              "50%          52.000000\n",
              "75%          63.000000\n",
              "max         109.000000\n",
              "Name: age, dtype: float64"
            ]
          },
          "metadata": {},
          "execution_count": 9
        }
      ]
    },
    {
      "cell_type": "code",
      "metadata": {
        "id": "wbM2J8P_gDOB"
      },
      "source": [
        "# NumberOfTime30-59DaysPastDueNotWorse of 96 and 98 is extremely high compare to other numbers, so max threshold was set.\n",
        "Counter(data['NumberOfTime30-59DaysPastDueNotWorse'])\n",
        "data['NumberOfTime30-59DaysPastDueNotWorse'] = np.where(data['NumberOfTime30-59DaysPastDueNotWorse'] > 13, 13, data['NumberOfTime30-59DaysPastDueNotWorse'])"
      ],
      "execution_count": 10,
      "outputs": []
    },
    {
      "cell_type": "code",
      "metadata": {
        "colab": {
          "base_uri": "https://localhost:8080/"
        },
        "id": "ra6R6UCITIBQ",
        "outputId": "a8840bb9-a6ad-456a-8201-45507f3eef57"
      },
      "source": [
        "data.DebtRatio.describe()"
      ],
      "execution_count": 11,
      "outputs": [
        {
          "output_type": "execute_result",
          "data": {
            "text/plain": [
              "count    150000.000000\n",
              "mean        353.005076\n",
              "std        2037.818523\n",
              "min           0.000000\n",
              "25%           0.175074\n",
              "50%           0.366508\n",
              "75%           0.868254\n",
              "max      329664.000000\n",
              "Name: DebtRatio, dtype: float64"
            ]
          },
          "metadata": {},
          "execution_count": 11
        }
      ]
    },
    {
      "cell_type": "code",
      "metadata": {
        "colab": {
          "base_uri": "https://localhost:8080/"
        },
        "id": "vbutqJvSTxgn",
        "outputId": "925f5aa0-a4ad-4276-a38e-91c8c20bd0da"
      },
      "source": [
        "# Rather than removing the outliers, threshold of q3 + 1.5iqr was used as maximum value.\n",
        "q1, q3, iqr = IQR(data, 'DebtRatio')\n",
        "\n",
        "data['DebtRatio'] = np.where(data['DebtRatio'] > (q3 + iqr * 1.5), (q3 + iqr * 1.5), data['DebtRatio'])\n",
        "\n",
        "data.DebtRatio.describe()"
      ],
      "execution_count": 12,
      "outputs": [
        {
          "output_type": "execute_result",
          "data": {
            "text/plain": [
              "count    150000.000000\n",
              "mean          0.663258\n",
              "std           0.688085\n",
              "min           0.000000\n",
              "25%           0.175074\n",
              "50%           0.366508\n",
              "75%           0.868254\n",
              "max           1.908024\n",
              "Name: DebtRatio, dtype: float64"
            ]
          },
          "metadata": {},
          "execution_count": 12
        }
      ]
    },
    {
      "cell_type": "code",
      "metadata": {
        "colab": {
          "base_uri": "https://localhost:8080/"
        },
        "id": "PA9JOv06T8k-",
        "outputId": "b7c4f710-da44-4b38-85ca-9e8a3e44e6ec"
      },
      "source": [
        "data.MonthlyIncome.describe()"
      ],
      "execution_count": 13,
      "outputs": [
        {
          "output_type": "execute_result",
          "data": {
            "text/plain": [
              "count    1.202690e+05\n",
              "mean     6.670221e+03\n",
              "std      1.438467e+04\n",
              "min      0.000000e+00\n",
              "25%      3.400000e+03\n",
              "50%      5.400000e+03\n",
              "75%      8.249000e+03\n",
              "max      3.008750e+06\n",
              "Name: MonthlyIncome, dtype: float64"
            ]
          },
          "metadata": {},
          "execution_count": 13
        }
      ]
    },
    {
      "cell_type": "code",
      "metadata": {
        "colab": {
          "base_uri": "https://localhost:8080/"
        },
        "id": "6jl3z7AoUi8Q",
        "outputId": "58f66458-1feb-4e08-a787-2e2619ad2bbe"
      },
      "source": [
        "# Rather than removing the outliers, threshold of q3 + 1.5iqr was used as maximum value.\n",
        "q1, q3, iqr = IQR(data, 'MonthlyIncome')\n",
        "\n",
        "data['MonthlyIncome'] = np.where(data['MonthlyIncome'] > (q3 + iqr * 1.5), (q3 + iqr * 1.5), data['MonthlyIncome'])\n",
        "\n",
        "data.MonthlyIncome.describe()"
      ],
      "execution_count": 14,
      "outputs": [
        {
          "output_type": "execute_result",
          "data": {
            "text/plain": [
              "count    120269.000000\n",
              "mean       6157.633251\n",
              "std        3747.828434\n",
              "min           0.000000\n",
              "25%        3400.000000\n",
              "50%        5400.000000\n",
              "75%        8249.000000\n",
              "max       15522.500000\n",
              "Name: MonthlyIncome, dtype: float64"
            ]
          },
          "metadata": {},
          "execution_count": 14
        }
      ]
    },
    {
      "cell_type": "code",
      "metadata": {
        "colab": {
          "base_uri": "https://localhost:8080/"
        },
        "id": "NHgDDh1oUtSB",
        "outputId": "11af8411-5da4-4327-b225-ed314ccd5f23"
      },
      "source": [
        "data.NumberOfOpenCreditLinesAndLoans.describe()"
      ],
      "execution_count": 15,
      "outputs": [
        {
          "output_type": "execute_result",
          "data": {
            "text/plain": [
              "count    150000.000000\n",
              "mean          8.452760\n",
              "std           5.145951\n",
              "min           0.000000\n",
              "25%           5.000000\n",
              "50%           8.000000\n",
              "75%          11.000000\n",
              "max          58.000000\n",
              "Name: NumberOfOpenCreditLinesAndLoans, dtype: float64"
            ]
          },
          "metadata": {},
          "execution_count": 15
        }
      ]
    },
    {
      "cell_type": "code",
      "metadata": {
        "colab": {
          "base_uri": "https://localhost:8080/"
        },
        "id": "M9MCBxVQUzil",
        "outputId": "e0d41418-802f-4c40-9461-0941edd7d01f"
      },
      "source": [
        "Counter(data['NumberOfOpenCreditLinesAndLoans'])"
      ],
      "execution_count": 16,
      "outputs": [
        {
          "output_type": "execute_result",
          "data": {
            "text/plain": [
              "Counter({0: 1888,\n",
              "         1: 4438,\n",
              "         2: 6666,\n",
              "         3: 9058,\n",
              "         4: 11609,\n",
              "         5: 12931,\n",
              "         6: 13614,\n",
              "         7: 13245,\n",
              "         8: 12562,\n",
              "         9: 11355,\n",
              "         10: 9624,\n",
              "         11: 8321,\n",
              "         12: 7005,\n",
              "         13: 5667,\n",
              "         14: 4546,\n",
              "         15: 3645,\n",
              "         16: 3000,\n",
              "         17: 2370,\n",
              "         18: 1874,\n",
              "         19: 1433,\n",
              "         20: 1169,\n",
              "         21: 864,\n",
              "         22: 685,\n",
              "         23: 533,\n",
              "         24: 422,\n",
              "         25: 337,\n",
              "         26: 239,\n",
              "         27: 194,\n",
              "         28: 150,\n",
              "         29: 114,\n",
              "         30: 88,\n",
              "         31: 74,\n",
              "         32: 52,\n",
              "         33: 47,\n",
              "         34: 35,\n",
              "         35: 27,\n",
              "         36: 18,\n",
              "         37: 7,\n",
              "         38: 13,\n",
              "         39: 9,\n",
              "         40: 10,\n",
              "         41: 4,\n",
              "         42: 8,\n",
              "         43: 8,\n",
              "         44: 2,\n",
              "         45: 8,\n",
              "         46: 3,\n",
              "         47: 2,\n",
              "         48: 6,\n",
              "         49: 4,\n",
              "         50: 2,\n",
              "         51: 2,\n",
              "         52: 3,\n",
              "         53: 1,\n",
              "         54: 4,\n",
              "         56: 2,\n",
              "         57: 2,\n",
              "         58: 1})"
            ]
          },
          "metadata": {},
          "execution_count": 16
        }
      ]
    },
    {
      "cell_type": "code",
      "metadata": {
        "id": "d8Z-t3csVL6U"
      },
      "source": [
        "# There were only few numbers more than 36. Thus, 36 was set as the maximum threshold\n",
        "data['NumberOfOpenCreditLinesAndLoans'] = np.where(data['NumberOfOpenCreditLinesAndLoans'] > 36, 36, data['NumberOfOpenCreditLinesAndLoans'])\n"
      ],
      "execution_count": 17,
      "outputs": []
    },
    {
      "cell_type": "code",
      "metadata": {
        "colab": {
          "base_uri": "https://localhost:8080/"
        },
        "id": "7mw-kAUTVhPJ",
        "outputId": "61c80f85-344f-44bd-8ea7-3e6566ed7e09"
      },
      "source": [
        "Counter(data['NumberOfTimes90DaysLate'])"
      ],
      "execution_count": 18,
      "outputs": [
        {
          "output_type": "execute_result",
          "data": {
            "text/plain": [
              "Counter({0: 141662,\n",
              "         1: 5243,\n",
              "         2: 1555,\n",
              "         3: 667,\n",
              "         4: 291,\n",
              "         5: 131,\n",
              "         6: 80,\n",
              "         7: 38,\n",
              "         8: 21,\n",
              "         9: 19,\n",
              "         10: 8,\n",
              "         11: 5,\n",
              "         12: 2,\n",
              "         13: 4,\n",
              "         14: 2,\n",
              "         15: 2,\n",
              "         17: 1,\n",
              "         96: 5,\n",
              "         98: 264})"
            ]
          },
          "metadata": {},
          "execution_count": 18
        }
      ]
    },
    {
      "cell_type": "code",
      "metadata": {
        "id": "DpgURws7VtR2"
      },
      "source": [
        "# NumberOfTimes90DaysLate of 96 and 98 is extremely high compare to other numbers, so max threshold was set.\n",
        "Counter(data['NumberOfTimes90DaysLate'])\n",
        "data['NumberOfTimes90DaysLate'] = np.where(data['NumberOfTimes90DaysLate'] > 17, 17, data['NumberOfTimes90DaysLate'])"
      ],
      "execution_count": 19,
      "outputs": []
    },
    {
      "cell_type": "code",
      "metadata": {
        "colab": {
          "base_uri": "https://localhost:8080/"
        },
        "id": "IjgtU1d8V5Lm",
        "outputId": "88832fc9-0244-480d-d758-723271010a26"
      },
      "source": [
        "Counter(data['NumberRealEstateLoansOrLines'])"
      ],
      "execution_count": 20,
      "outputs": [
        {
          "output_type": "execute_result",
          "data": {
            "text/plain": [
              "Counter({0: 56188,\n",
              "         1: 52338,\n",
              "         2: 31522,\n",
              "         3: 6300,\n",
              "         4: 2170,\n",
              "         5: 689,\n",
              "         6: 320,\n",
              "         7: 171,\n",
              "         8: 93,\n",
              "         9: 78,\n",
              "         10: 37,\n",
              "         11: 23,\n",
              "         12: 18,\n",
              "         13: 15,\n",
              "         14: 7,\n",
              "         15: 7,\n",
              "         16: 4,\n",
              "         17: 4,\n",
              "         18: 2,\n",
              "         19: 2,\n",
              "         20: 2,\n",
              "         21: 1,\n",
              "         23: 2,\n",
              "         25: 3,\n",
              "         26: 1,\n",
              "         29: 1,\n",
              "         32: 1,\n",
              "         54: 1})"
            ]
          },
          "metadata": {},
          "execution_count": 20
        }
      ]
    },
    {
      "cell_type": "code",
      "metadata": {
        "id": "SNmKBaj8WA5d"
      },
      "source": [
        "# There were only few numbers more than 13. Thus, 13 was set as the maximum threshold\n",
        "data['NumberRealEstateLoansOrLines'] = np.where(data['NumberRealEstateLoansOrLines'] > 13, 13, data['NumberRealEstateLoansOrLines'])"
      ],
      "execution_count": 21,
      "outputs": []
    },
    {
      "cell_type": "code",
      "metadata": {
        "colab": {
          "base_uri": "https://localhost:8080/"
        },
        "id": "6RGIVH2MWU_X",
        "outputId": "dac494f0-d007-4081-ec9a-c49112f67d81"
      },
      "source": [
        "Counter(data['NumberOfTime60-89DaysPastDueNotWorse'])"
      ],
      "execution_count": 22,
      "outputs": [
        {
          "output_type": "execute_result",
          "data": {
            "text/plain": [
              "Counter({0: 142396,\n",
              "         1: 5731,\n",
              "         2: 1118,\n",
              "         3: 318,\n",
              "         4: 105,\n",
              "         5: 34,\n",
              "         6: 16,\n",
              "         7: 9,\n",
              "         8: 2,\n",
              "         9: 1,\n",
              "         11: 1,\n",
              "         96: 5,\n",
              "         98: 264})"
            ]
          },
          "metadata": {},
          "execution_count": 22
        }
      ]
    },
    {
      "cell_type": "code",
      "metadata": {
        "id": "OvbQtCUwWk9o"
      },
      "source": [
        "# NumberOfTime60-89DaysPastDueNotWorse of 96 and 98 is extremely high compare to other numbers, so max threshold was set.\n",
        "Counter(data['NumberOfTime60-89DaysPastDueNotWorse'])\n",
        "data['NumberOfTime60-89DaysPastDueNotWorse'] = np.where(data['NumberOfTime60-89DaysPastDueNotWorse'] > 11, 11, data['NumberOfTime60-89DaysPastDueNotWorse'])"
      ],
      "execution_count": 23,
      "outputs": []
    },
    {
      "cell_type": "code",
      "metadata": {
        "colab": {
          "base_uri": "https://localhost:8080/"
        },
        "id": "oNB2zy41WxbT",
        "outputId": "8b29cceb-60f5-423f-843b-a1a73d231bc0"
      },
      "source": [
        "# Upon analyzing NumberOfDependents column, max NumberOfDependents was set to 10.\n",
        "# Additionally, NaN values were replaced to median value in NumberOfDependents.\n",
        "for i in range(5,21):\n",
        "    print (i, len(data[data.NumberOfDependents == i]))"
      ],
      "execution_count": 24,
      "outputs": [
        {
          "output_type": "stream",
          "name": "stdout",
          "text": [
            "5 746\n",
            "6 158\n",
            "7 51\n",
            "8 24\n",
            "9 5\n",
            "10 5\n",
            "11 0\n",
            "12 0\n",
            "13 1\n",
            "14 0\n",
            "15 0\n",
            "16 0\n",
            "17 0\n",
            "18 0\n",
            "19 0\n",
            "20 1\n"
          ]
        }
      ]
    },
    {
      "cell_type": "code",
      "metadata": {
        "id": "OrIOWj7nX2X5"
      },
      "source": [
        "data['NumberOfDependents'] = np.where(data['NumberOfDependents'] > 10, 10, data['NumberOfDependents'])\n",
        "data['NumberOfDependents'].fillna(data['NumberOfDependents'].median(), inplace=True)"
      ],
      "execution_count": 25,
      "outputs": []
    },
    {
      "cell_type": "markdown",
      "metadata": {
        "id": "vwxhbCdVbgZs"
      },
      "source": [
        "### Random Forest Regressor was used to fill in NaN values in MonthlyIncome column (little computationally expensive but predictions are reasonable."
      ]
    },
    {
      "cell_type": "code",
      "metadata": {
        "id": "KAmVVhKCYDj-"
      },
      "source": [
        "# Rows with MonthlyIncome becomes the training and rows with NaN will be predicted accordingly.\n",
        "train = data[data.MonthlyIncome.isnull() == False]\n",
        "test = data[data.MonthlyIncome.isnull() == True]\n",
        "\n",
        "X_train = train.drop(['MonthlyIncome', 'SeriousDlqin2yrs'], axis=1)\n",
        "y_train = train['MonthlyIncome']"
      ],
      "execution_count": 26,
      "outputs": []
    },
    {
      "cell_type": "code",
      "metadata": {
        "colab": {
          "base_uri": "https://localhost:8080/"
        },
        "id": "O7lvXALxcVdX",
        "outputId": "207609c7-e79b-44a0-b47c-f3e0816dd0be"
      },
      "source": [
        "regr = RandomForestRegressor(n_estimators=100, criterion='mse', max_depth=None, min_samples_split=2, min_samples_leaf=1,\n",
        "                              min_weight_fraction_leaf=0.0, max_features='auto', max_leaf_nodes=None, bootstrap=True,\n",
        "                              oob_score=False, n_jobs=1, random_state=None, verbose=1)\n",
        "\n",
        "regr.fit(X_train, y_train)"
      ],
      "execution_count": 27,
      "outputs": [
        {
          "output_type": "stream",
          "name": "stderr",
          "text": [
            "/usr/local/lib/python3.7/dist-packages/sklearn/ensemble/_forest.py:392: FutureWarning: Criterion 'mse' was deprecated in v1.0 and will be removed in version 1.2. Use `criterion='squared_error'` which is equivalent.\n",
            "  FutureWarning,\n",
            "[Parallel(n_jobs=1)]: Using backend SequentialBackend with 1 concurrent workers.\n",
            "[Parallel(n_jobs=1)]: Done 100 out of 100 | elapsed:   52.8s finished\n"
          ]
        },
        {
          "output_type": "execute_result",
          "data": {
            "text/plain": [
              "RandomForestRegressor(criterion='mse', n_jobs=1, verbose=1)"
            ]
          },
          "metadata": {},
          "execution_count": 27
        }
      ]
    },
    {
      "cell_type": "code",
      "metadata": {
        "colab": {
          "base_uri": "https://localhost:8080/"
        },
        "id": "siJJ4bunjKAj",
        "outputId": "d73acae8-063d-4fbd-c785-d8d7468c6fb2"
      },
      "source": [
        "# Replace NaN with predictions from the model\n",
        "data['MonthlyIncome'] = np.where(data['MonthlyIncome'].isna(), regr.predict(data.drop(['MonthlyIncome', 'SeriousDlqin2yrs'], axis=1)), data['MonthlyIncome'])"
      ],
      "execution_count": 28,
      "outputs": [
        {
          "output_type": "stream",
          "name": "stderr",
          "text": [
            "[Parallel(n_jobs=1)]: Using backend SequentialBackend with 1 concurrent workers.\n",
            "[Parallel(n_jobs=1)]: Done 100 out of 100 | elapsed:    5.7s finished\n"
          ]
        }
      ]
    },
    {
      "cell_type": "markdown",
      "metadata": {
        "id": "CeVCkVWptBuZ"
      },
      "source": [
        "## **Prediction**\n",
        "\n",
        "*   Now that the data cleaning is done, the cleaned data can be used to predict \"SeriousDlqin2yrs\" \n",
        "\n",
        "\n"
      ]
    },
    {
      "cell_type": "code",
      "metadata": {
        "id": "dBM8sfbTczSX"
      },
      "source": [
        "X = data.drop('SeriousDlqin2yrs', axis=1)\n",
        "y = data['SeriousDlqin2yrs']\n",
        "\n",
        "X_train, X_test, y_train, y_test = train_test_split(X, y, test_size=0.2)"
      ],
      "execution_count": 29,
      "outputs": []
    },
    {
      "cell_type": "code",
      "metadata": {
        "colab": {
          "base_uri": "https://localhost:8080/"
        },
        "id": "b0rQLxR1y1wC",
        "outputId": "232d5327-f43a-4aff-bd27-52a5663a0611"
      },
      "source": [
        "rand_classifier = RandomForestClassifier(n_estimators=100, criterion='gini', max_depth=None, min_samples_split=2,\n",
        "                               min_samples_leaf=1, min_weight_fraction_leaf=0.0, max_features='auto',\n",
        "                               max_leaf_nodes=None, bootstrap=True, oob_score=False, n_jobs=1, \n",
        "                               random_state=None, verbose=0)\n",
        "rand_classifier.fit(X_train, y_train)"
      ],
      "execution_count": 30,
      "outputs": [
        {
          "output_type": "execute_result",
          "data": {
            "text/plain": [
              "RandomForestClassifier(n_jobs=1)"
            ]
          },
          "metadata": {},
          "execution_count": 30
        }
      ]
    },
    {
      "cell_type": "code",
      "metadata": {
        "colab": {
          "base_uri": "https://localhost:8080/"
        },
        "id": "VPZm_W2myzZj",
        "outputId": "5effb380-8270-4054-947a-9ba54402198c"
      },
      "source": [
        "ada_classifier = AdaBoostClassifier(n_estimators=100, random_state=0)\n",
        "ada_classifier.fit(X_train, y_train)"
      ],
      "execution_count": 31,
      "outputs": [
        {
          "output_type": "execute_result",
          "data": {
            "text/plain": [
              "AdaBoostClassifier(n_estimators=100, random_state=0)"
            ]
          },
          "metadata": {},
          "execution_count": 31
        }
      ]
    },
    {
      "cell_type": "code",
      "metadata": {
        "colab": {
          "base_uri": "https://localhost:8080/"
        },
        "id": "r2rGPpMR7Teq",
        "outputId": "91aea9b7-ba4a-4518-d428-0ec57188f948"
      },
      "source": [
        "grad_classifier = GradientBoostingClassifier(n_estimators=100, learning_rate=1.0, max_depth=1, random_state=0).fit(X_train, y_train)\n",
        "grad_classifier.fit(X_train, y_train)"
      ],
      "execution_count": 32,
      "outputs": [
        {
          "output_type": "execute_result",
          "data": {
            "text/plain": [
              "GradientBoostingClassifier(learning_rate=1.0, max_depth=1, random_state=0)"
            ]
          },
          "metadata": {},
          "execution_count": 32
        }
      ]
    },
    {
      "cell_type": "code",
      "metadata": {
        "id": "ktcAofMVwNAe"
      },
      "source": [
        "y_rand_pred = rand_classifier.predict(X_test)\n",
        "y_ada_pred = ada_classifier.predict(X_test)\n",
        "y_grad_pred = grad_classifier.predict(X_test)"
      ],
      "execution_count": 33,
      "outputs": []
    },
    {
      "cell_type": "code",
      "metadata": {
        "colab": {
          "base_uri": "https://localhost:8080/"
        },
        "id": "WKh6q_rpvTY9",
        "outputId": "c63db3f4-d1f6-4e9a-c68b-2c78c3756965"
      },
      "source": [
        "from sklearn.metrics import classification_report\n",
        "print('Random Forest Classifier\\n',classification_report(y_test, y_rand_pred))\n",
        "print('Ada Boost Classifier\\n',classification_report(y_test, y_ada_pred))\n",
        "print('Gradient Boosting Classifier\\n',classification_report(y_test, y_grad_pred))"
      ],
      "execution_count": 34,
      "outputs": [
        {
          "output_type": "stream",
          "name": "stdout",
          "text": [
            "Random Forest Classifier\n",
            "               precision    recall  f1-score   support\n",
            "\n",
            "           0       0.94      0.99      0.97     27999\n",
            "           1       0.52      0.19      0.28      2001\n",
            "\n",
            "    accuracy                           0.93     30000\n",
            "   macro avg       0.73      0.59      0.62     30000\n",
            "weighted avg       0.92      0.93      0.92     30000\n",
            "\n",
            "Ada Boost Classifier\n",
            "               precision    recall  f1-score   support\n",
            "\n",
            "           0       0.95      0.99      0.97     27999\n",
            "           1       0.53      0.21      0.30      2001\n",
            "\n",
            "    accuracy                           0.94     30000\n",
            "   macro avg       0.74      0.60      0.63     30000\n",
            "weighted avg       0.92      0.94      0.92     30000\n",
            "\n",
            "Gradient Boosting Classifier\n",
            "               precision    recall  f1-score   support\n",
            "\n",
            "           0       0.95      0.97      0.96     27999\n",
            "           1       0.41      0.34      0.37      2001\n",
            "\n",
            "    accuracy                           0.92     30000\n",
            "   macro avg       0.68      0.65      0.67     30000\n",
            "weighted avg       0.92      0.92      0.92     30000\n",
            "\n"
          ]
        }
      ]
    },
    {
      "cell_type": "code",
      "metadata": {
        "colab": {
          "base_uri": "https://localhost:8080/"
        },
        "id": "Y5t1a5yK7ztD",
        "outputId": "1e4fb954-249f-4eb4-93aa-2e68f2767a6e"
      },
      "source": [
        "print('Random Forest Classifier:',roc_auc_score(y_test,rand_classifier.predict_proba(X_test)[:, 1] , average='macro', sample_weight=None))\n",
        "print('Ada Boost Classifier:',roc_auc_score(y_test,ada_classifier.predict_proba(X_test)[:, 1] , average='macro', sample_weight=None))\n",
        "print('Gradient Boosting Classifier:',roc_auc_score(y_test,grad_classifier.predict_proba(X_test)[:, 1] , average='macro', sample_weight=None))"
      ],
      "execution_count": 35,
      "outputs": [
        {
          "output_type": "stream",
          "name": "stdout",
          "text": [
            "Random Forest Classifier: 0.8389681279935768\n",
            "Ada Boost Classifier: 0.8552955119997059\n",
            "Gradient Boosting Classifier: 0.6530035903509727\n"
          ]
        }
      ]
    },
    {
      "cell_type": "markdown",
      "metadata": {
        "id": "0IkznBvPR_3L"
      },
      "source": [
        "## **Test Data Prediction**\n",
        "\n",
        "\n",
        "*   Since Random Forest Classifier showed the best performance, it'll be used to predict the test data."
      ]
    },
    {
      "cell_type": "code",
      "metadata": {
        "colab": {
          "base_uri": "https://localhost:8080/",
          "height": 244
        },
        "id": "YQKxMRzRSPLx",
        "outputId": "65a865ef-dde5-4086-d8f5-e76f27dbc487"
      },
      "source": [
        "test_data = pd.read_csv('cs-test.csv')\n",
        "test_data.head()"
      ],
      "execution_count": 36,
      "outputs": [
        {
          "output_type": "execute_result",
          "data": {
            "text/html": [
              "<div>\n",
              "<style scoped>\n",
              "    .dataframe tbody tr th:only-of-type {\n",
              "        vertical-align: middle;\n",
              "    }\n",
              "\n",
              "    .dataframe tbody tr th {\n",
              "        vertical-align: top;\n",
              "    }\n",
              "\n",
              "    .dataframe thead th {\n",
              "        text-align: right;\n",
              "    }\n",
              "</style>\n",
              "<table border=\"1\" class=\"dataframe\">\n",
              "  <thead>\n",
              "    <tr style=\"text-align: right;\">\n",
              "      <th></th>\n",
              "      <th>Unnamed: 0</th>\n",
              "      <th>SeriousDlqin2yrs</th>\n",
              "      <th>RevolvingUtilizationOfUnsecuredLines</th>\n",
              "      <th>age</th>\n",
              "      <th>NumberOfTime30-59DaysPastDueNotWorse</th>\n",
              "      <th>DebtRatio</th>\n",
              "      <th>MonthlyIncome</th>\n",
              "      <th>NumberOfOpenCreditLinesAndLoans</th>\n",
              "      <th>NumberOfTimes90DaysLate</th>\n",
              "      <th>NumberRealEstateLoansOrLines</th>\n",
              "      <th>NumberOfTime60-89DaysPastDueNotWorse</th>\n",
              "      <th>NumberOfDependents</th>\n",
              "    </tr>\n",
              "  </thead>\n",
              "  <tbody>\n",
              "    <tr>\n",
              "      <th>0</th>\n",
              "      <td>1</td>\n",
              "      <td>NaN</td>\n",
              "      <td>0.885519</td>\n",
              "      <td>43</td>\n",
              "      <td>0</td>\n",
              "      <td>0.177513</td>\n",
              "      <td>5700.0</td>\n",
              "      <td>4</td>\n",
              "      <td>0</td>\n",
              "      <td>0</td>\n",
              "      <td>0</td>\n",
              "      <td>0.0</td>\n",
              "    </tr>\n",
              "    <tr>\n",
              "      <th>1</th>\n",
              "      <td>2</td>\n",
              "      <td>NaN</td>\n",
              "      <td>0.463295</td>\n",
              "      <td>57</td>\n",
              "      <td>0</td>\n",
              "      <td>0.527237</td>\n",
              "      <td>9141.0</td>\n",
              "      <td>15</td>\n",
              "      <td>0</td>\n",
              "      <td>4</td>\n",
              "      <td>0</td>\n",
              "      <td>2.0</td>\n",
              "    </tr>\n",
              "    <tr>\n",
              "      <th>2</th>\n",
              "      <td>3</td>\n",
              "      <td>NaN</td>\n",
              "      <td>0.043275</td>\n",
              "      <td>59</td>\n",
              "      <td>0</td>\n",
              "      <td>0.687648</td>\n",
              "      <td>5083.0</td>\n",
              "      <td>12</td>\n",
              "      <td>0</td>\n",
              "      <td>1</td>\n",
              "      <td>0</td>\n",
              "      <td>2.0</td>\n",
              "    </tr>\n",
              "    <tr>\n",
              "      <th>3</th>\n",
              "      <td>4</td>\n",
              "      <td>NaN</td>\n",
              "      <td>0.280308</td>\n",
              "      <td>38</td>\n",
              "      <td>1</td>\n",
              "      <td>0.925961</td>\n",
              "      <td>3200.0</td>\n",
              "      <td>7</td>\n",
              "      <td>0</td>\n",
              "      <td>2</td>\n",
              "      <td>0</td>\n",
              "      <td>0.0</td>\n",
              "    </tr>\n",
              "    <tr>\n",
              "      <th>4</th>\n",
              "      <td>5</td>\n",
              "      <td>NaN</td>\n",
              "      <td>1.000000</td>\n",
              "      <td>27</td>\n",
              "      <td>0</td>\n",
              "      <td>0.019917</td>\n",
              "      <td>3865.0</td>\n",
              "      <td>4</td>\n",
              "      <td>0</td>\n",
              "      <td>0</td>\n",
              "      <td>0</td>\n",
              "      <td>1.0</td>\n",
              "    </tr>\n",
              "  </tbody>\n",
              "</table>\n",
              "</div>"
            ],
            "text/plain": [
              "   Unnamed: 0  ...  NumberOfDependents\n",
              "0           1  ...                 0.0\n",
              "1           2  ...                 2.0\n",
              "2           3  ...                 2.0\n",
              "3           4  ...                 0.0\n",
              "4           5  ...                 1.0\n",
              "\n",
              "[5 rows x 12 columns]"
            ]
          },
          "metadata": {},
          "execution_count": 36
        }
      ]
    },
    {
      "cell_type": "code",
      "metadata": {
        "id": "XAkMamYDSapH"
      },
      "source": [
        "# Omit first column\n",
        "test_data = test_data.iloc[: , 1:]"
      ],
      "execution_count": 37,
      "outputs": []
    },
    {
      "cell_type": "code",
      "metadata": {
        "colab": {
          "base_uri": "https://localhost:8080/"
        },
        "id": "Z909ZBw5Sc2g",
        "outputId": "79b9204e-1d96-4052-f261-4ccc6b2bfeb1"
      },
      "source": [
        "# NaN needs to be filled in.\n",
        "test_data.isna().sum()"
      ],
      "execution_count": 38,
      "outputs": [
        {
          "output_type": "execute_result",
          "data": {
            "text/plain": [
              "SeriousDlqin2yrs                        101503\n",
              "RevolvingUtilizationOfUnsecuredLines         0\n",
              "age                                          0\n",
              "NumberOfTime30-59DaysPastDueNotWorse         0\n",
              "DebtRatio                                    0\n",
              "MonthlyIncome                            20103\n",
              "NumberOfOpenCreditLinesAndLoans              0\n",
              "NumberOfTimes90DaysLate                      0\n",
              "NumberRealEstateLoansOrLines                 0\n",
              "NumberOfTime60-89DaysPastDueNotWorse         0\n",
              "NumberOfDependents                        2626\n",
              "dtype: int64"
            ]
          },
          "metadata": {},
          "execution_count": 38
        }
      ]
    },
    {
      "cell_type": "code",
      "metadata": {
        "id": "iK0b1NmUWqjJ"
      },
      "source": [
        "# Test data is cleaned in the same manner\n",
        "q1, q3, iqr = IQR(test_data, 'RevolvingUtilizationOfUnsecuredLines')\n",
        "\n",
        "test_data['RevolvingUtilizationOfUnsecuredLines'] = np.where(test_data['RevolvingUtilizationOfUnsecuredLines'] > (q3 + iqr * 1.5), (q3 + iqr * 1.5), test_data['RevolvingUtilizationOfUnsecuredLines'])\n",
        "\n",
        "test_data['age'] = np.where(test_data['age'] < 22, 22, test_data['age'])\n",
        "\n",
        "test_data['NumberOfTime30-59DaysPastDueNotWorse'] = np.where(test_data['NumberOfTime30-59DaysPastDueNotWorse'] > 13, 13, test_data['NumberOfTime30-59DaysPastDueNotWorse'])\n",
        "\n",
        "q1, q3, iqr = IQR(test_data, 'DebtRatio')\n",
        "test_data['DebtRatio'] = np.where(test_data['DebtRatio'] > (q3 + iqr * 1.5), (q3 + iqr * 1.5), test_data['DebtRatio'])\n",
        "\n",
        "q1, q3, iqr = IQR(test_data, 'MonthlyIncome')\n",
        "test_data['MonthlyIncome'] = np.where(test_data['MonthlyIncome'] > (q3 + iqr * 1.5), (q3 + iqr * 1.5), test_data['MonthlyIncome'])\n",
        "\n",
        "test_data['NumberOfOpenCreditLinesAndLoans'] = np.where(test_data['NumberOfOpenCreditLinesAndLoans'] > 36, 36, test_data['NumberOfOpenCreditLinesAndLoans'])\n",
        "\n",
        "test_data['NumberOfTimes90DaysLate'] = np.where(test_data['NumberOfTimes90DaysLate'] > 17, 17, test_data['NumberOfTimes90DaysLate'])\n",
        "\n",
        "test_data['NumberRealEstateLoansOrLines'] = np.where(test_data['NumberRealEstateLoansOrLines'] > 13, 13, test_data['NumberRealEstateLoansOrLines'])\n",
        "\n",
        "test_data['NumberOfTime60-89DaysPastDueNotWorse'] = np.where(test_data['NumberOfTime60-89DaysPastDueNotWorse'] > 11, 11, test_data['NumberOfTime60-89DaysPastDueNotWorse'])"
      ],
      "execution_count": null,
      "outputs": []
    },
    {
      "cell_type": "code",
      "metadata": {
        "id": "MyQ7Zgu9SoDh"
      },
      "source": [
        "# Fill in NaN in NumberOfDependents\n",
        "test_data['NumberOfDependents'] = np.where(test_data['NumberOfDependents'] > 10, 10, test_data['NumberOfDependents'])\n",
        "test_data['NumberOfDependents'].fillna(test_data['NumberOfDependents'].median(), inplace=True)"
      ],
      "execution_count": 40,
      "outputs": []
    },
    {
      "cell_type": "code",
      "metadata": {
        "colab": {
          "base_uri": "https://localhost:8080/"
        },
        "id": "E8ZjS7VTS8om",
        "outputId": "75f19097-97d5-42df-f3c0-293981177c77"
      },
      "source": [
        "# Rows with MonthlyIncome becomes the training and rows with NaN will be predicted accordingly.\n",
        "train = test_data[test_data.MonthlyIncome.isnull() == False]\n",
        "test = test_data[test_data.MonthlyIncome.isnull() == True]\n",
        "\n",
        "X_train = train.drop(['MonthlyIncome', 'SeriousDlqin2yrs'], axis=1)\n",
        "y_train = train['MonthlyIncome']\n",
        "\n",
        "regr = RandomForestRegressor(n_estimators=100, criterion='mse', max_depth=None, min_samples_split=2, min_samples_leaf=1,\n",
        "                              min_weight_fraction_leaf=0.0, max_features='auto', max_leaf_nodes=None, bootstrap=True,\n",
        "                              oob_score=False, n_jobs=1, random_state=None, verbose=1)\n",
        "\n",
        "regr.fit(X_train, y_train)\n",
        "\n",
        "# Replace NaN with predictions from the model\n",
        "test_data['MonthlyIncome'] = np.where(test_data['MonthlyIncome'].isna(), regr.predict(test_data.drop(['MonthlyIncome', 'SeriousDlqin2yrs'], axis=1)), test_data['MonthlyIncome'])"
      ],
      "execution_count": 41,
      "outputs": [
        {
          "output_type": "stream",
          "name": "stderr",
          "text": [
            "/usr/local/lib/python3.7/dist-packages/sklearn/ensemble/_forest.py:392: FutureWarning: Criterion 'mse' was deprecated in v1.0 and will be removed in version 1.2. Use `criterion='squared_error'` which is equivalent.\n",
            "  FutureWarning,\n",
            "[Parallel(n_jobs=1)]: Using backend SequentialBackend with 1 concurrent workers.\n",
            "[Parallel(n_jobs=1)]: Done 100 out of 100 | elapsed:   33.9s finished\n",
            "[Parallel(n_jobs=1)]: Using backend SequentialBackend with 1 concurrent workers.\n",
            "[Parallel(n_jobs=1)]: Done 100 out of 100 | elapsed:    3.5s finished\n"
          ]
        }
      ]
    },
    {
      "cell_type": "code",
      "metadata": {
        "id": "ChKDqrEFTTyv"
      },
      "source": [
        "# Predict using the trained model\n",
        "X = test_data.drop('SeriousDlqin2yrs', axis=1)\n",
        "SeriousDlqin2yrs = rand_classifier.predict(X)"
      ],
      "execution_count": 42,
      "outputs": []
    },
    {
      "cell_type": "code",
      "metadata": {
        "id": "KHAMvoKGTr6K"
      },
      "source": [
        "test_pred = pd.DataFrame({'SeriousDlqin2yrs': SeriousDlqin2yrs})\n",
        "test_pred = test_pred.join(X)"
      ],
      "execution_count": 43,
      "outputs": []
    },
    {
      "cell_type": "code",
      "metadata": {
        "colab": {
          "base_uri": "https://localhost:8080/"
        },
        "id": "_GFpmYRDUlsK",
        "outputId": "5f375463-2922-4b4c-ab82-8db1ef4edef7"
      },
      "source": [
        "# Test dataset is successfully predicted\n",
        "test_pred.SeriousDlqin2yrs.describe()"
      ],
      "execution_count": 44,
      "outputs": [
        {
          "output_type": "execute_result",
          "data": {
            "text/plain": [
              "count    101503.000000\n",
              "mean          0.023182\n",
              "std           0.150481\n",
              "min           0.000000\n",
              "25%           0.000000\n",
              "50%           0.000000\n",
              "75%           0.000000\n",
              "max           1.000000\n",
              "Name: SeriousDlqin2yrs, dtype: float64"
            ]
          },
          "metadata": {},
          "execution_count": 44
        }
      ]
    },
    {
      "cell_type": "code",
      "metadata": {
        "id": "8037tNvhVkGR"
      },
      "source": [
        "test_pred.to_csv(\"./cs-predictions.csv\", index=False)"
      ],
      "execution_count": 49,
      "outputs": []
    }
  ]
}